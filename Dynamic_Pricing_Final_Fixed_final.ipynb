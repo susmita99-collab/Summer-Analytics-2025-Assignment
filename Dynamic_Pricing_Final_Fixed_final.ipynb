{
  "cells": [
    {
      "cell_type": "markdown",
      "metadata": {
        "id": "view-in-github",
        "colab_type": "text"
      },
      "source": [
        "<a href=\"https://colab.research.google.com/github/susmita99-collab/Summer-Analytics-2025-Assignment/blob/main/Dynamic_Pricing_Final_Fixed_final.ipynb\" target=\"_parent\"><img src=\"https://colab.research.google.com/assets/colab-badge.svg\" alt=\"Open In Colab\"/></a>"
      ]
    },
    {
      "cell_type": "code",
      "source": [
        "!pip install pathway bokeh panel --quiet"
      ],
      "metadata": {
        "id": "VNUJN8Zb1Q89"
      },
      "id": "VNUJN8Zb1Q89",
      "execution_count": 4,
      "outputs": []
    },
    {
      "cell_type": "code",
      "source": [
        "import numpy as np\n",
        "import pandas as pd\n",
        "import pathway as pw\n",
        "import datetime\n",
        "import bokeh.plotting\n",
        "import panel as pn"
      ],
      "metadata": {
        "id": "VO62j_z722b7"
      },
      "id": "VO62j_z722b7",
      "execution_count": 5,
      "outputs": []
    },
    {
      "cell_type": "code",
      "source": [
        "\n",
        "# 📥 Upload 'dataset.csv' to your Colab session before running this\n",
        "df = pd.read_csv('dataset.csv')\n",
        "\n",
        "# ✅ Preview the first few rows\n",
        "print(\"✅ First 5 rows of dataset:\")\n",
        "print(df.head())\n",
        "\n",
        "# ✅ Show column names to confirm schema\n",
        "print(\"\\n✅ Column names:\")\n",
        "print(df.columns.tolist())\n",
        "\n",
        "# ✅ Check for nulls just in case\n",
        "print(\"\\n⚠️ Null values in each column:\")\n",
        "print(df.isnull().sum())"
      ],
      "metadata": {
        "id": "z5BHiBVt254u",
        "outputId": "d9837ac2-04df-4c09-eb1a-c18ef960b4da",
        "colab": {
          "base_uri": "https://localhost:8080/"
        }
      },
      "id": "z5BHiBVt254u",
      "execution_count": 36,
      "outputs": [
        {
          "output_type": "stream",
          "name": "stdout",
          "text": [
            "✅ First 5 rows of dataset:\n",
            "   ID SystemCodeNumber  Capacity   Latitude  Longitude  Occupancy VehicleType  \\\n",
            "0   0      BHMBCCMKT01       577  26.144536  91.736172         61         car   \n",
            "1   1      BHMBCCMKT01       577  26.144536  91.736172         64         car   \n",
            "2   2      BHMBCCMKT01       577  26.144536  91.736172         80         car   \n",
            "3   3      BHMBCCMKT01       577  26.144536  91.736172        107         car   \n",
            "4   4      BHMBCCMKT01       577  26.144536  91.736172        150        bike   \n",
            "\n",
            "  TrafficConditionNearby  QueueLength  IsSpecialDay LastUpdatedDate  \\\n",
            "0                    low            1             0      04-10-2016   \n",
            "1                    low            1             0      04-10-2016   \n",
            "2                    low            2             0      04-10-2016   \n",
            "3                    low            2             0      04-10-2016   \n",
            "4                    low            2             0      04-10-2016   \n",
            "\n",
            "  LastUpdatedTime  \n",
            "0        07:59:00  \n",
            "1        08:25:00  \n",
            "2        08:59:00  \n",
            "3        09:32:00  \n",
            "4        09:59:00  \n",
            "\n",
            "✅ Column names:\n",
            "['ID', 'SystemCodeNumber', 'Capacity', 'Latitude', 'Longitude', 'Occupancy', 'VehicleType', 'TrafficConditionNearby', 'QueueLength', 'IsSpecialDay', 'LastUpdatedDate', 'LastUpdatedTime']\n",
            "\n",
            "⚠️ Null values in each column:\n",
            "ID                        0\n",
            "SystemCodeNumber          0\n",
            "Capacity                  0\n",
            "Latitude                  0\n",
            "Longitude                 0\n",
            "Occupancy                 0\n",
            "VehicleType               0\n",
            "TrafficConditionNearby    0\n",
            "QueueLength               0\n",
            "IsSpecialDay              0\n",
            "LastUpdatedDate           0\n",
            "LastUpdatedTime           0\n",
            "dtype: int64\n"
          ]
        }
      ]
    },
    {
      "cell_type": "code",
      "source": [
        "# Convert date + time to a datetime object\n",
        "df['Timestamp'] = pd.to_datetime(\n",
        "    df['LastUpdatedDate'] + ' ' + df['LastUpdatedTime'],\n",
        "    format='%d-%m-%Y %H:%M:%S'\n",
        ")"
      ],
      "metadata": {
        "id": "nTUkB0H83CiP"
      },
      "id": "nTUkB0H83CiP",
      "execution_count": 7,
      "outputs": []
    },
    {
      "cell_type": "code",
      "source": [
        "# Sort chronologically and reset index\n",
        "df = df.sort_values('Timestamp').reset_index(drop=True)\n",
        "\n",
        "# Save selected features to CSV for Pathway streaming\n",
        "df[['Timestamp', 'Occupancy', 'Capacity', 'QueueLength',\n",
        "    'TrafficConditionNearby', 'IsSpecialDay', 'VehicleType']].to_csv(\"parking_stream.csv\", index=False)"
      ],
      "metadata": {
        "id": "3XHQ4ZEY3GJA"
      },
      "id": "3XHQ4ZEY3GJA",
      "execution_count": 8,
      "outputs": []
    },
    {
      "cell_type": "code",
      "source": [
        "# Define the expected structure of streaming data\n",
        "class ParkingSchema(pw.Schema):\n",
        "    Timestamp: str\n",
        "    Occupancy: int\n",
        "    Capacity: int\n",
        "    QueueLength: int\n",
        "    TrafficConditionNearby: int\n",
        "    IsSpecialDay: int\n",
        "    VehicleType: str"
      ],
      "metadata": {
        "id": "EV6eOhyd3Jr4"
      },
      "id": "EV6eOhyd3Jr4",
      "execution_count": 9,
      "outputs": []
    },
    {
      "cell_type": "code",
      "source": [
        "# Simulate a data stream from the prepared CSV\n",
        "data = pw.demo.replay_csv(\"parking_stream.csv\", schema=ParkingSchema, input_rate=1000)"
      ],
      "metadata": {
        "id": "mTLE8Kkb3U-c"
      },
      "id": "mTLE8Kkb3U-c",
      "execution_count": 10,
      "outputs": []
    },
    {
      "cell_type": "code",
      "source": [
        "# Define the datetime format that matches the 'Timestamp' column\n",
        "fmt = \"%Y-%m-%d %H:%M:%S\"\n",
        "\n",
        "# Convert string timestamp to actual datetime and extract the day\n",
        "data_with_time = data.with_columns(\n",
        "    t = data.Timestamp.dt.strptime(fmt),  # full timestamp\n",
        "    day = data.Timestamp.dt.strptime(fmt).dt.strftime(\"%Y-%m-%dT00:00:00\")  # day only\n",
        ")"
      ],
      "metadata": {
        "id": "E6EZ_Ucz3aHg"
      },
      "id": "E6EZ_Ucz3aHg",
      "execution_count": 11,
      "outputs": []
    },
    {
      "cell_type": "code",
      "source": [
        "# Step 5.0 — Safely define vehicle weight column\n",
        "with_vehicle_weight = data_with_time.with_columns(\n",
        "    vehicle_weight = pw.apply(vehicle_type_weight, data_with_time.VehicleType)\n",
        ")"
      ],
      "metadata": {
        "id": "bGqNZa9-66k6"
      },
      "id": "bGqNZa9-66k6",
      "execution_count": 31,
      "outputs": []
    },
    {
      "cell_type": "code",
      "source": [
        "with_demand = with_vehicle_weight.with_columns(\n",
        "    OccupancyF = pw.cast(with_vehicle_weight.Occupancy, float),\n",
        "    CapacityF = pw.cast(with_vehicle_weight.Capacity, float),\n",
        "    QueueF = pw.cast(with_vehicle_weight.QueueLength, float),\n",
        "    TrafficF = pw.cast(with_vehicle_weight.TrafficConditionNearby, float),\n",
        "    SpecialDayF = pw.cast(with_vehicle_weight.IsSpecialDay, float),\n",
        "    VehicleWeightF = pw.cast(with_vehicle_weight.vehicle_weight, float)\n",
        ").with_columns(\n",
        "    demand = (\n",
        "        0.4 * (pw.this.OccupancyF / pw.this.CapacityF)\n",
        "        + 0.2 * pw.this.QueueF\n",
        "        - 0.2 * pw.this.TrafficF\n",
        "        + 0.1 * pw.this.SpecialDayF\n",
        "        + 0.1 * pw.this.VehicleWeightF\n",
        "    )\n",
        ")"
      ],
      "metadata": {
        "id": "uGo0V32K7rUD"
      },
      "id": "uGo0V32K7rUD",
      "execution_count": null,
      "outputs": []
    },
    {
      "cell_type": "code",
      "source": [
        "BASE_PRICE = 10\n",
        "MAX_MULTIPLIER = 2.0\n",
        "MIN_MULTIPLIER = 0.5\n",
        "\n",
        "windowed = (\n",
        "    with_demand.windowby(\n",
        "        pw.this.t,\n",
        "        instance=pw.this.day,\n",
        "        window=pw.temporal.tumbling(datetime.timedelta(days=1)),\n",
        "        behavior=pw.temporal.exactly_once_behavior()\n",
        "    )\n",
        "    .reduce(\n",
        "        t = pw.this._pw_window_end,\n",
        "        demand_mean = pw.reducers.mean(pw.this.demand)\n",
        "    )\n",
        "    .with_columns(\n",
        "        price_multiplier = pw.select(\n",
        "            (pw.this.demand_mean > (MAX_MULTIPLIER - 1), MAX_MULTIPLIER),\n",
        "            (pw.this.demand_mean < (MIN_MULTIPLIER - 1), MIN_MULTIPLIER),\n",
        "            default = 1 + pw.this.demand_mean\n",
        "        ),\n",
        "        price = BASE_PRICE * pw.this.price_multiplier\n",
        "    )\n",
        ")"
      ],
      "metadata": {
        "id": "Kn50M2lM732X"
      },
      "id": "Kn50M2lM732X",
      "execution_count": null,
      "outputs": []
    },
    {
      "cell_type": "code",
      "source": [
        "pn.extension()\n",
        "\n",
        "def price_plotter(source):\n",
        "    fig = bokeh.plotting.figure(\n",
        "        height=400,\n",
        "        width=800,\n",
        "        title=\"Dynamic Parking Price (Daily)\",\n",
        "        x_axis_type=\"datetime\",\n",
        "        x_axis_label=\"Date\",\n",
        "        y_axis_label=\"Price ($)\",\n",
        "        background_fill_color=\"#f5f5f5\"\n",
        "    )\n",
        "    fig.line(\"t\", \"price\", source=source, line_width=2, color=\"green\", legend_label=\"Price\")\n",
        "    fig.circle(\"t\", \"price\", source=source, size=6, color=\"red\")\n",
        "    fig.legend.location = \"top_left\"\n",
        "    return fig\n",
        "\n",
        "viz = windowed.plot(price_plotter, sorting_col=\"t\")\n",
        "pn.Column(viz).servable()"
      ],
      "metadata": {
        "id": "TwtD1hxR75vU"
      },
      "id": "TwtD1hxR75vU",
      "execution_count": null,
      "outputs": []
    },
    {
      "cell_type": "code",
      "source": [
        "%%capture --no-display\n",
        "pw.run()"
      ],
      "metadata": {
        "id": "OdJVxOji79-q"
      },
      "id": "OdJVxOji79-q",
      "execution_count": null,
      "outputs": []
    }
  ],
  "metadata": {
    "colab": {
      "provenance": [],
      "include_colab_link": true
    },
    "language_info": {
      "name": "python"
    },
    "kernelspec": {
      "name": "python3",
      "display_name": "Python 3"
    }
  },
  "nbformat": 4,
  "nbformat_minor": 5
}